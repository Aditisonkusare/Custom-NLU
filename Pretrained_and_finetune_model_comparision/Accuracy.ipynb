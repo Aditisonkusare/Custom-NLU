{
 "cells": [
  {
   "cell_type": "code",
   "execution_count": 5,
   "metadata": {},
   "outputs": [],
   "source": [
    "import pandas as pd\n",
    "import mysql.connector"
   ]
  },
  {
   "cell_type": "code",
   "execution_count": 6,
   "metadata": {},
   "outputs": [
    {
     "name": "stdout",
     "output_type": "stream",
     "text": [
      "Connected Successfully\n"
     ]
    }
   ],
   "source": [
    "connection = mysql.connector.connect(\n",
    "    host=\"localhost\",\n",
    "    user=\"Admin\",\n",
    "    password=\"Admin\",\n",
    "    database=\"name_entity_recognition\"\n",
    ")\n",
    "\n",
    "cursor = connection.cursor()\n",
    "\n",
    "if connection.is_connected():\n",
    "    print('Connected Successfully')\n",
    "else:\n",
    "    print('Failed to connect')\n",
    "    exit()"
   ]
  },
  {
   "cell_type": "code",
   "execution_count": 7,
   "metadata": {},
   "outputs": [],
   "source": [
    "cursor = connection.cursor()\n",
    "\n",
    "sql_query = \"SELECT * FROM SENTENCE_PREDICTION;\"\n",
    "cursor.execute(sql_query)\n",
    "\n",
    "records = cursor.fetchall()\n",
    "\n",
    "columns = [desc[0] for desc in cursor.description]\n",
    "\n",
    "df = pd.DataFrame(records, columns=columns)"
   ]
  },
  {
   "cell_type": "code",
   "execution_count": 8,
   "metadata": {},
   "outputs": [
    {
     "name": "stdout",
     "output_type": "stream",
     "text": [
      "Finetune accuracy 0.38\n",
      "Pretrained accuracy 0.5\n"
     ]
    }
   ],
   "source": [
    "print(\"Finetune accuracy\", df.finetune_accuracy.sum()/df.finetune_accuracy.count())\n",
    "print(\"Pretrained accuracy\", df.pretrained_accuracy.sum()/df.pretrained_accuracy.count())\n"
   ]
  },
  {
   "cell_type": "code",
   "execution_count": 9,
   "metadata": {},
   "outputs": [
    {
     "name": "stderr",
     "output_type": "stream",
     "text": [
      "/tmp/ipykernel_39871/2894911713.py:3: UserWarning: pandas only supports SQLAlchemy connectable (engine/connection) or database string URI or sqlite3 DBAPI2 connection. Other DBAPI2 objects are not tested. Please consider using SQLAlchemy.\n",
      "  df = pd.read_sql(sql_query, connection)\n"
     ]
    }
   ],
   "source": [
    "sql_query = \"SELECT * FROM SENTENCE_PREDICTION;\"\n",
    "\n",
    "df = pd.read_sql(sql_query, connection)\n",
    "\n",
    "connection.close()\n",
    "\n",
    "df.to_csv('output.csv', index=False)"
   ]
  },
  {
   "cell_type": "code",
   "execution_count": 10,
   "metadata": {},
   "outputs": [
    {
     "data": {
      "text/plain": [
       "sentence_labels\n",
       "locatedAt     30\n",
       "managerOf     30\n",
       "employedBy    30\n",
       "noRelation    10\n",
       "Name: count, dtype: int64"
      ]
     },
     "execution_count": 10,
     "metadata": {},
     "output_type": "execute_result"
    }
   ],
   "source": [
    "df.sentence_labels.value_counts()"
   ]
  },
  {
   "cell_type": "code",
   "execution_count": null,
   "metadata": {},
   "outputs": [],
   "source": []
  }
 ],
 "metadata": {
  "kernelspec": {
   "display_name": "main",
   "language": "python",
   "name": "python3"
  },
  "language_info": {
   "codemirror_mode": {
    "name": "ipython",
    "version": 3
   },
   "file_extension": ".py",
   "mimetype": "text/x-python",
   "name": "python",
   "nbconvert_exporter": "python",
   "pygments_lexer": "ipython3",
   "version": "3.11.3"
  }
 },
 "nbformat": 4,
 "nbformat_minor": 2
}
